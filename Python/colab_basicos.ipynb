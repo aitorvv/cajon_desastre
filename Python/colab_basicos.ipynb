{
  "cells": [
    {
      "cell_type": "markdown",
      "metadata": {
        "id": "view-in-github",
        "colab_type": "text"
      },
      "source": [
        "<a href=\"https://colab.research.google.com/github/aitorvv96/cajon_desastre/blob/master/Python/colab_basics.ipynb\" target=\"_parent\"><img src=\"https://colab.research.google.com/assets/colab-badge.svg\" alt=\"Open In Colab\"/></a>"
      ]
    },
    {
      "cell_type": "markdown",
      "source": [
        "# **Colab basics**\n",
        "Aitor Vázquez Veloso, June 2022  \n",
        "More info [here](https://github.com/aitorvv96/cajon_desastre)"
      ],
      "metadata": {
        "id": "0nsOl-BWau59"
      }
    },
    {
      "cell_type": "markdown",
      "metadata": {
        "id": "Dk6tNqecqsYN"
      },
      "source": [
        "# **Mounting colab**"
      ]
    },
    {
      "cell_type": "code",
      "execution_count": null,
      "metadata": {
        "id": "0V8xOXudqoDd"
      },
      "outputs": [],
      "source": [
        "# Google Drive mount\n",
        "from google.colab import drive\n",
        "drive.mount('/content/drive')"
      ]
    },
    {
      "cell_type": "code",
      "execution_count": null,
      "metadata": {
        "id": "KN5D0oGI8gMm"
      },
      "outputs": [],
      "source": [
        "# Onedrive mount - check here: https://www.linuxuprising.com/2018/07/how-to-mount-onedrive-in-linux-using.html\n",
        "!sudo https://rclone.org/install.sh"
      ]
    },
    {
      "cell_type": "markdown",
      "metadata": {
        "id": "r1W-7X0yL-s8"
      },
      "source": [
        "Run this in your terminal.\n",
        "\n",
        "```bash\n",
        "$ rclone authorize \"onedrive\"\n",
        "```"
      ]
    },
    {
      "cell_type": "code",
      "execution_count": null,
      "metadata": {
        "id": "g6QUUWQf8hdK"
      },
      "outputs": [],
      "source": [
        "!rclone config"
      ]
    },
    {
      "cell_type": "code",
      "execution_count": null,
      "metadata": {
        "id": "WZYx5jSZ_dWK"
      },
      "outputs": [],
      "source": [
        "!rm -rf '/content/onedrive' && rm 'nohup.out'\n",
        "!sudo mkdir /content/onedrive\n",
        "!nohup rclone --vfs-cache-mode full mount onedrive: /content/onedrive &"
      ]
    },
    {
      "cell_type": "markdown",
      "metadata": {
        "id": "sJ93PXMtr-S-"
      },
      "source": [
        "# **Import data**"
      ]
    },
    {
      "cell_type": "code",
      "execution_count": null,
      "metadata": {
        "id": "fQ7KNSvCsHnc"
      },
      "outputs": [],
      "source": [
        "# Import data from github\n",
        "### the path must be generated with the \"raw\" button available on github and the repository must be public\n",
        "my_csv= 'https://raw.githubusercontent.com/JoseCarlosPorto/SingularTree/main/Pinus_pinea_IFN3.csv'"
      ]
    },
    {
      "cell_type": "code",
      "execution_count": null,
      "metadata": {
        "id": "4RMlTgMSszO-"
      },
      "outputs": [],
      "source": [
        "# Import from your own drive account\n",
        "my_file = '/content/drive/MyDrive/my_file.xlsx'"
      ]
    },
    {
      "cell_type": "markdown",
      "metadata": {
        "id": "JEvrSf7ItE-V"
      },
      "source": [
        "# **Import a list of files**"
      ]
    },
    {
      "cell_type": "code",
      "execution_count": null,
      "metadata": {
        "id": "jHoNvzokX5EB"
      },
      "outputs": [],
      "source": [
        "# import the csv files from a DRIVE folder to a list of df\n",
        "\n",
        "from os import listdir\n",
        "from os.path import isfile, join\n",
        "\n",
        "mypath = '/content/drive/MyDrive/drive_folder/'  # set main path\n",
        "onlyfiles = [f for f in listdir(mypath) if isfile(join(mypath, f))]  \n",
        "\n",
        "csv_list = list()\n",
        "for file in onlyfiles:  # extract all paths\n",
        "  csv_list.append(mypath + file)\n",
        "  \n",
        "df_list = csv_list  # copy the list to save the original "
      ]
    },
    {
      "cell_type": "markdown",
      "metadata": {
        "id": "Wg1LxPeruDpO"
      },
      "source": [
        "# **Read data**"
      ]
    },
    {
      "cell_type": "code",
      "execution_count": null,
      "metadata": {
        "id": "3rlWhhoPunMW"
      },
      "outputs": [],
      "source": [
        "# Import with pandas\n",
        "import pandas as pd"
      ]
    },
    {
      "cell_type": "code",
      "execution_count": null,
      "metadata": {
        "id": "xd5_IX4HuGw3"
      },
      "outputs": [],
      "source": [
        "# Read csv\n",
        "my_df = pd.read_csv(df)"
      ]
    },
    {
      "cell_type": "code",
      "execution_count": null,
      "metadata": {
        "id": "MXmnDIY9ubaI"
      },
      "outputs": [],
      "source": [
        "# Read excel\n",
        "df = pd.read_excel('sample.xlsx')\n",
        "df_sheet_index = pd.read_excel('sample.xlsx', sheet_name=1)  # specifying nº of sheet\n",
        "df_sheet_index = pd.read_excel('sample.xlsx', sheet_name='title')  # specifying sheet title\n",
        "df_sheet_multi = pd.read_excel('sample.xlsx', sheet_name=[0, 'sheet2'])  # import more than 1 sheet\n",
        "df_sheet_all = pd.read_excel('sample.xlsx', sheet_name=None)  # import all the file\n",
        "\n",
        "# to read more than 1 sheet\n",
        "print(df_sheet_multi[0])\n",
        "print(df_sheet_multi['sheet2'])"
      ]
    },
    {
      "cell_type": "code",
      "execution_count": null,
      "metadata": {
        "id": "KjsL8zKAxWyg"
      },
      "outputs": [],
      "source": [
        "# Read json file\n",
        "\n",
        "import json\n",
        "\n",
        "# Opening JSON file\n",
        "f = open('data.json')\n",
        "\n",
        "# returns JSON object as a dictionary\n",
        "data = json.load(f)\n",
        "\n",
        "# Iterating through the json list\n",
        "for i in data['emp_details']:\n",
        "\tprint(i)\n",
        "\n",
        "# Closing file\n",
        "f.close()"
      ]
    },
    {
      "cell_type": "markdown",
      "metadata": {
        "id": "zV7jqsjvwMay"
      },
      "source": [
        "# **Download data**"
      ]
    },
    {
      "cell_type": "code",
      "execution_count": null,
      "metadata": {
        "id": "HSQAkWa4wPPu"
      },
      "outputs": [],
      "source": [
        "# Download as csv\n",
        "import pandas as pd\n",
        "new_df.to_csv(path_save, index=False, encoding='utf-8-sig')"
      ]
    },
    {
      "cell_type": "code",
      "execution_count": null,
      "metadata": {
        "id": "52y2m9_cxivX"
      },
      "outputs": [],
      "source": [
        "# Download as excel\n",
        "df.to_excel('saved_file.xlsx')"
      ]
    },
    {
      "cell_type": "code",
      "execution_count": null,
      "metadata": {
        "id": "lvk4gSA5w_Va"
      },
      "outputs": [],
      "source": [
        "# Download as json\n",
        "import json \n",
        "with open(\"Movies.json\", 'w') as f:\n",
        "    json.dump(movies, f)"
      ]
    }
  ],
  "metadata": {
    "colab": {
      "collapsed_sections": [],
      "name": "colab_basics.ipynb",
      "provenance": [],
      "include_colab_link": true
    },
    "kernelspec": {
      "display_name": "Python 3 (ipykernel)",
      "language": "python",
      "name": "python3"
    },
    "language_info": {
      "codemirror_mode": {
        "name": "ipython",
        "version": 3
      },
      "file_extension": ".py",
      "mimetype": "text/x-python",
      "name": "python",
      "nbconvert_exporter": "python",
      "pygments_lexer": "ipython3",
      "version": "3.8.10"
    }
  },
  "nbformat": 4,
  "nbformat_minor": 0
}