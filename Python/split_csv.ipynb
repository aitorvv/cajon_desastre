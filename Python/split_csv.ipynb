{
  "nbformat": 4,
  "nbformat_minor": 0,
  "metadata": {
    "colab": {
      "name": "split_csv.ipynb",
      "provenance": [],
      "include_colab_link": true
    },
    "kernelspec": {
      "name": "python3",
      "display_name": "Python 3"
    },
    "language_info": {
      "name": "python"
    }
  },
  "cells": [
    {
      "cell_type": "markdown",
      "metadata": {
        "id": "view-in-github",
        "colab_type": "text"
      },
      "source": [
        "<a href=\"https://colab.research.google.com/github/aitorvv96/cajon_desastre/blob/master/Python/split_csv.ipynb\" target=\"_parent\"><img src=\"https://colab.research.google.com/assets/colab-badge.svg\" alt=\"Open In Colab\"/></a>"
      ]
    },
    {
      "cell_type": "markdown",
      "source": [
        "# **Split csv file**\n",
        "Aitor Vázquez Veloso, June 2022  \n",
        "More info [here](https://github.com/aitorvv96/cajon_desastre)"
      ],
      "metadata": {
        "id": "aOyyuaefcrdv"
      }
    },
    {
      "cell_type": "markdown",
      "source": [
        "**Script to split a csv file into smaller files.**"
      ],
      "metadata": {
        "id": "1khdKYcsPDoG"
      }
    },
    {
      "cell_type": "code",
      "execution_count": null,
      "metadata": {
        "id": "Qezs-Vw_LXJS"
      },
      "outputs": [],
      "source": [
        "# Import libraries\n",
        "import pandas as pd"
      ]
    },
    {
      "cell_type": "code",
      "source": [
        "# Set your drive account\n",
        "from google.colab import drive\n",
        "drive.mount('/content/drive')"
      ],
      "metadata": {
        "id": "l5wDX8OsL8n6"
      },
      "execution_count": null,
      "outputs": []
    },
    {
      "cell_type": "code",
      "source": [
        "# Set paths and name of the original file\n",
        "csv_path = 'https://raw.githubusercontent.com/JoseCarlosPorto/SingularTree/main/Pinus_pinea_IFN3.csv'  # original file path\n",
        "name_original_file = 'Pinus_pinea_IFN3'  # original file name\n",
        "orig_path = '/content/drive/MyDrive/test/'  # path to save splitted files\n",
        "block_size = 25  # number os rows"
      ],
      "metadata": {
        "id": "8YL3aoXroNwO"
      },
      "execution_count": null,
      "outputs": []
    },
    {
      "cell_type": "code",
      "source": [
        "def split_csv(csv_path, block_size):\n",
        "  \"\"\"Function to split df into blocks of smaller df.\n",
        "     That will be needed to manage the image downloading process.\"\"\"\n",
        "  \n",
        "  df = pd.read_csv(csv_path)\n",
        "  total_rows = len(df)\n",
        "  total_split_file = int(total_rows/block_size)\n",
        "\n",
        "  for i in range(total_split_file):\n",
        "      if i == (total_split_file - 1):  # last block_size rows and the rest...\n",
        "          new_df = df[i*block_size: i*block_size + block_size]\n",
        "          new_df_last = df[(i*block_size) + block_size: ]\n",
        "          path_save = orig_path + name_original_file + '_' + str(i*block_size + 1) + '_' + str(i*block_size + block_size) + '.csv'\n",
        "          path_save_last = orig_path + name_original_file + '_' + str(i*block_size + block_size + 1) + '_' + str(total_rows) + '.csv'\n",
        "\n",
        "          new_df_last.to_csv(path_save_last, index=False, encoding='utf-8-sig')  # print a file with the last rows\n",
        "\n",
        "      else:  # each block_size rows...\n",
        "          new_df = df[i*block_size: i*block_size + block_size]\n",
        "          path_save = orig_path + name_original_file + '_' + str(i*block_size + 1) + '_' + str(i*block_size + block_size) + '.csv'\n",
        "\n",
        "      # new_df.to_csv(path_save)\n",
        "      new_df.to_csv(path_save, index=False, encoding='utf-8-sig')  # print each df with block_size rows\n",
        "\n",
        "if __name__ == '__main__':\n",
        "    split_csv(csv_path, block_size)"
      ],
      "metadata": {
        "id": "3DyERYtPLYo_"
      },
      "execution_count": null,
      "outputs": []
    }
  ]
}