{
  "nbformat": 4,
  "nbformat_minor": 0,
  "metadata": {
    "colab": {
      "provenance": [],
      "authorship_tag": "ABX9TyNa2eSuMeNAu4MXCdi8bU5Q",
      "include_colab_link": true
    },
    "kernelspec": {
      "name": "python3",
      "display_name": "Python 3"
    },
    "language_info": {
      "name": "python"
    }
  },
  "cells": [
    {
      "cell_type": "markdown",
      "metadata": {
        "id": "view-in-github",
        "colab_type": "text"
      },
      "source": [
        "<a href=\"https://colab.research.google.com/github/aitorvv96/cajon_desastre/blob/master/Python/youtube_downloads.ipynb\" target=\"_parent\"><img src=\"https://colab.research.google.com/assets/colab-badge.svg\" alt=\"Open In Colab\"/></a>"
      ]
    },
    {
      "cell_type": "markdown",
      "source": [
        "<center>\n",
        "\n",
        "# **Download videos from Youtube using Python**\n",
        "\n",
        "</center>\n",
        "<center>\n",
        "\n",
        "[Cajón desastre](https://github.com/aitorvv96/cajon_desastre)\n",
        "\n",
        "</center>\n",
        "\n",
        "---\n"
      ],
      "metadata": {
        "id": "OovKFtSl6V62"
      }
    },
    {
      "cell_type": "markdown",
      "source": [
        "# Install pytube python library and mount Drive"
      ],
      "metadata": {
        "id": "MRlQB1RX8C6l"
      }
    },
    {
      "cell_type": "code",
      "source": [
        "!pip install pytube"
      ],
      "metadata": {
        "id": "KS3agMbl2Ckl"
      },
      "execution_count": null,
      "outputs": []
    },
    {
      "cell_type": "code",
      "source": [
        "from google.colab import drive\n",
        "drive.mount('/content/drive')"
      ],
      "metadata": {
        "id": "-mdwOsl78oFO"
      },
      "execution_count": null,
      "outputs": []
    },
    {
      "cell_type": "markdown",
      "source": [
        "# Download an unique video\n",
        "---\n",
        "Source [here](https://www.freecodecamp.org/news/python-program-to-download-youtube-videos/)."
      ],
      "metadata": {
        "id": "kXe3Yc5H6c_h"
      }
    },
    {
      "cell_type": "code",
      "execution_count": null,
      "metadata": {
        "colab": {
          "base_uri": "https://localhost:8080/"
        },
        "id": "qnuLzVSm1kdT",
        "outputId": "65d9c06d-29b6-4d2b-8459-4b053ad174eb"
      },
      "outputs": [
        {
          "output_type": "stream",
          "name": "stdout",
          "text": [
            "Enter the YouTube video URL: https://www.youtube.com/watch?v=w0CQfVQkS9Q\n",
            "Download is completed successfully\n"
          ]
        }
      ],
      "source": [
        "from pytube import YouTube\n",
        "\n",
        "def Download(link):\n",
        "    youtubeObject = YouTube(link)\n",
        "    youtubeObject = youtubeObject.streams.get_highest_resolution()\n",
        "    try:\n",
        "        youtubeObject.download()\n",
        "    except:\n",
        "        print(\"An error has occurred\")\n",
        "    print(\"Download is completed successfully\")\n",
        "\n",
        "\n",
        "link = input(\"Enter the YouTube video URL: \")\n",
        "Download(link)"
      ]
    },
    {
      "cell_type": "markdown",
      "source": [
        "# Download a video playlist\n",
        "---\n",
        "Developed by my own by using [that code](https://www.freecodecamp.org/news/python-program-to-download-youtube-videos/) and the [pytube library documentation](https://pytube.io/en/latest/index.html)."
      ],
      "metadata": {
        "id": "Vzp7FiO76qr_"
      }
    },
    {
      "cell_type": "code",
      "execution_count": null,
      "metadata": {
        "id": "xXE1xUpD4J5v"
      },
      "outputs": [],
      "source": [
        "from pytube import YouTube, Playlist\n",
        "\n",
        "def Download(link):\n",
        "    youtubeObject = YouTube(link)\n",
        "    youtubeObject = youtubeObject.streams.get_highest_resolution()\n",
        "    try:\n",
        "        youtubeObject.download()\n",
        "    except:\n",
        "        print(\"An error has occurred\")\n",
        "    print(\"Video download is completed successfully\")\n",
        "\n",
        "#p = Playlist('https://www.youtube.com/playlist?list=PLsdzTKpJZZa7CXdfogk67aCDHZswsXm8g')\n",
        "link = input(\"Enter the YouTube playlist URL: \")\n",
        "p = Playlist(link)\n",
        "\n",
        "for url in p.video_urls:\n",
        "  Download(url)\n",
        "\n",
        "print('Your playlist was downloaded.')"
      ]
    },
    {
      "cell_type": "markdown",
      "source": [
        "---\n",
        "\n",
        "<center>\n",
        "\n",
        "[Cajón desastre](https://github.com/aitorvv96/cajon_desastre) - [Aitor Vázquez Veloso](https://www.linkedin.com/in/aitorvazquezveloso)\n",
        "\n",
        "</center>\n"
      ],
      "metadata": {
        "id": "UWCn-OKG78mS"
      }
    }
  ]
}