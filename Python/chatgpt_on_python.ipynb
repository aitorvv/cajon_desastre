{
  "cells": [
    {
      "cell_type": "markdown",
      "metadata": {
        "id": "IbxZISIQ-wGd"
      },
      "source": [
        "# Using ChatGPT on Python\n",
        "\n",
        "## Resources\n",
        "\n",
        "* [GitHub repo](https://github.com/openai/openai-python)\n",
        "* [API Reference - openai library documentation](https://platform.openai.com/docs/api-reference)\n",
        "* [Register here to get your OpenAI API key](https://platform.openai.com/)\n",
        "* [Video to build the code](https://www.youtube.com/watch?v=1Pl1FWHKHXQ&ab_channel=MoureDevbyBraisMoure)\n"
      ]
    },
    {
      "cell_type": "markdown",
      "metadata": {
        "id": "6l8c3v5JD82q"
      },
      "source": [
        "### # Original [video](https://www.youtube.com/watch?v=1Pl1FWHKHXQ&ab_channel=MoureDevbyBraisMoure) code\n"
      ]
    },
    {
      "cell_type": "code",
      "execution_count": null,
      "metadata": {
        "id": "fKbcex-y-nt2"
      },
      "outputs": [],
      "source": [
        "pip install openai"
      ]
    },
    {
      "cell_type": "code",
      "execution_count": null,
      "metadata": {
        "id": "-CvgzCZGAUbo"
      },
      "outputs": [],
      "source": [
        "import openai\n",
        "\n",
        "# insert here your OpenAI API key: https://platform.openai.com/\n",
        "openai.api_key = 'write here your API key' \n",
        "\n",
        "while True:\n",
        "\n",
        "  prompt = input('\\nIntroduce una pregunta: ')\n",
        "\n",
        "  # write 'exit' to close the program\n",
        "  if prompt == 'exit':\n",
        "    break\n",
        "\n",
        "  completion = openai.Completion.create(engine='text-davinci-003',\n",
        "                          prompt='¿Qué es ChatGPT?',\n",
        "                          max_tokens=2048)\n",
        "\n",
        "  print(completion.choices[0].text)\n"
      ]
    },
    {
      "cell_type": "markdown",
      "metadata": {
        "id": "nL4N3_WeEByA"
      },
      "source": [
        "### My ChatGPT function"
      ]
    },
    {
      "cell_type": "code",
      "execution_count": null,
      "metadata": {
        "id": "T8x0o1TdEI1x"
      },
      "outputs": [],
      "source": [
        "# openai library settings\n",
        "!pip install openai\n",
        "\n",
        "import openai\n",
        "\n",
        "# insert here your OpenAI API key: https://platform.openai.com/\n",
        "openai.api_key = 'write here your API key' "
      ]
    },
    {
      "cell_type": "code",
      "execution_count": null,
      "metadata": {
        "id": "rsijhLi5D1vB"
      },
      "outputs": [],
      "source": [
        "def chatgpt(question):\n",
        "  \"\"\"\n",
        "  A simple function to use ChatGPT from Python.\n",
        "  \"\"\"\n",
        "\n",
        "  completion = openai.Completion.create(engine='text-davinci-003',\n",
        "                          prompt=question,\n",
        "                          max_tokens=2048)\n",
        "\n",
        "  print(completion.choices[0].text)"
      ]
    },
    {
      "cell_type": "code",
      "execution_count": null,
      "metadata": {
        "id": "au8-OuMUFMwB"
      },
      "outputs": [],
      "source": [
        "chatgpt('write here your request')"
      ]
    }
  ],
  "metadata": {
    "colab": {
      "provenance": []
    },
    "kernelspec": {
      "display_name": "Python 3",
      "name": "python3"
    },
    "language_info": {
      "name": "python"
    }
  },
  "nbformat": 4,
  "nbformat_minor": 0
}