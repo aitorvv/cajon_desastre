{
  "nbformat": 4,
  "nbformat_minor": 0,
  "metadata": {
    "colab": {
      "name": "manage_tasks_on_GEE.ipynb",
      "provenance": [],
      "include_colab_link": true
    },
    "kernelspec": {
      "name": "python3",
      "display_name": "Python 3"
    },
    "language_info": {
      "name": "python"
    }
  },
  "cells": [
    {
      "cell_type": "markdown",
      "metadata": {
        "id": "view-in-github",
        "colab_type": "text"
      },
      "source": [
        "<a href=\"https://colab.research.google.com/github/aitorvv96/cajon_desastre/blob/master/Python/manage_tasks_on_GEE.ipynb\" target=\"_parent\"><img src=\"https://colab.research.google.com/assets/colab-badge.svg\" alt=\"Open In Colab\"/></a>"
      ]
    },
    {
      "cell_type": "markdown",
      "source": [
        "# **Google Earth Engine basics**\n",
        "Aitor Vázquez Veloso, June 2022  \n",
        "More info [here](https://github.com/aitorvv96/cajon_desastre)"
      ],
      "metadata": {
        "id": "8ZPO99iHcyBV"
      }
    },
    {
      "cell_type": "markdown",
      "source": [
        "# **Authentication on Google Earth Engine**"
      ],
      "metadata": {
        "id": "aNjY6ASnvZdK"
      }
    },
    {
      "cell_type": "code",
      "execution_count": null,
      "metadata": {
        "id": "R9VpC-VAvVvD"
      },
      "outputs": [],
      "source": [
        "# import library\n",
        "import ee"
      ]
    },
    {
      "cell_type": "code",
      "source": [
        "# Authentication and initialization of GEE\n",
        "ee.Authenticate() \n",
        "ee.Initialize() "
      ],
      "metadata": {
        "id": "_rZAFRYwvWwu"
      },
      "execution_count": null,
      "outputs": []
    },
    {
      "cell_type": "markdown",
      "source": [
        "# **Download images without exceeding the tasks limit**\n",
        "  \n",
        "This code is important to manage the tasks sent to the function that downloads the images to not overpass the limits and stop the process.\n",
        "  \n",
        "To use the following code, you have to take into account:\n",
        "- *df_list* must contain a list of data with the coordinates of the point you want to obtain the image. If not, delete the first 'for' loop and put the data of the variable 'my_df'\n",
        "- the next part of the code is adapted to a general structure that you can check on that [file](https://github.com/aitorvv96/cajon_desastre/blob/master/Python/get_GEE_images.ipynb)\n",
        "- *managing_tasks* is the part that really matters about this code. With this, the code will be checking how many tasks are waiting to be done, and when the tasks will be finished it automatically sends more tasks to the download images function"
      ],
      "metadata": {
        "id": "BzbJaMiUvxWD"
      }
    },
    {
      "cell_type": "code",
      "execution_count": null,
      "metadata": {
        "id": "llDeEa8GunaS"
      },
      "outputs": [],
      "source": [
        "# That code will download all the df of the list without exceed the\n",
        "# maximum of tasks on the GEE queue (3000)\n",
        "\n",
        "for df in df_list:  # for each df on the list...\n",
        "\n",
        "  my_df = pd.read_csv(df)\n",
        "\n",
        "  # download original image\n",
        "  download_MDT_images(my_df, Prefix_original_points_folder_name)  \n",
        "\n",
        "  # download random images\n",
        "  for n in range(number_of_creations):\n",
        "      new_df = generate_random_point_from_csv(my_df, maximum_distance)\n",
        "      csv_name = output_csv_base_name + str(n + 1) + '.csv'\n",
        "      new_df.to_csv(csv_name) #new csv files will be saved in working directory\n",
        "      download_MDT_images(new_df, Prefix_random_points_folder_name + str(n + 1))\n",
        "\n",
        "\n",
        "  # managing tasks \n",
        "  task_list = ee.data.getTaskList()  # tasks list must be updated with each df\n",
        "\n",
        "  while task_list[0]['state'] != 'COMPLETED':  # check if the last was downloaded\n",
        "\n",
        "    time.sleep(60)  # wait some time to download the images\n",
        "    task_list = ee.data.getTaskList()  # tasks list must be updated on each try\n",
        "\n",
        "    if task_list[0]['state'] == 'COMPLETED':  # condition to go out of \"while\"\n",
        "\n",
        "      print('-------------------')\n",
        "      print('df fully downloaded')\n",
        "      print('-------------------')\n",
        "\n",
        "      break\n",
        "\n",
        "print('ALL THE MDT DOWNLOADS HAVE FINISHED')"
      ]
    }
  ]
}