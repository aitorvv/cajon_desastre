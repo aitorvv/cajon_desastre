{
  "nbformat": 4,
  "nbformat_minor": 0,
  "metadata": {
    "colab": {
      "provenance": []
    },
    "kernelspec": {
      "name": "python3",
      "display_name": "Python 3"
    },
    "language_info": {
      "name": "python"
    }
  },
  "cells": [
    {
      "cell_type": "markdown",
      "source": [
        "# Using DALL-E 2 API on Python\n",
        "\n",
        "## Resources\n",
        "\n",
        "* [GitHub repo](https://github.com/openai/openai-python)\n",
        "* [API Reference - openai library documentation](https://platform.openai.com/docs/api-reference)\n",
        "* [Register here to get your OpenAI API key](https://platform.openai.com/)\n",
        "* [Video to build the code](https://www.youtube.com/watch?v=S7tOW-xkhjY&ab_channel=1littlecoder)\n",
        "* [Original code](https://github.com/amrrs/dalle-api-python/blob/main/DALLE-API.ipynb)\n"
      ],
      "metadata": {
        "id": "jP8ZVvm5GzBq"
      }
    },
    {
      "cell_type": "code",
      "source": [
        "# openai library settings\n",
        "!pip install openai\n",
        "\n",
        "import os\n",
        "import openai\n",
        "\n",
        "# insert here your OpenAI API key: https://platform.openai.com/\n",
        "openai.api_key = 'paste here your API key' "
      ],
      "metadata": {
        "id": "AhWND8SlHMMM"
      },
      "execution_count": null,
      "outputs": []
    },
    {
      "cell_type": "code",
      "source": [
        "# Check the list of models\n",
        "openai.Model.list()"
      ],
      "metadata": {
        "id": "vNdTV6zCHKDA"
      },
      "execution_count": null,
      "outputs": []
    },
    {
      "cell_type": "code",
      "source": [
        "def dalle(text, n_results=1, size='1024x1024'):\n",
        "  \"\"\"\n",
        "  A simple function to use DALL-E 2 from Python.\n",
        "  Args:\n",
        "    * text = text that orders an image (chr)\n",
        "    * n_results = number of results (images) we want (int)\n",
        "    * size = size of the image (chr)\n",
        "  \"\"\"\n",
        "  \n",
        "  img = openai.Image.create(prompt=text, \n",
        "                      n=n_results, \n",
        "                      size=size)\n",
        "  \n",
        "  print(img)"
      ],
      "metadata": {
        "id": "itcryjYtH0-e"
      },
      "execution_count": null,
      "outputs": []
    },
    {
      "cell_type": "code",
      "source": [
        "dalle('write here your request')"
      ],
      "metadata": {
        "id": "ODDzaUuJIuOr"
      },
      "execution_count": null,
      "outputs": []
    }
  ]
}